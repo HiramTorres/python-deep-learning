{
 "cells": [
  {
   "cell_type": "markdown",
   "metadata": {},
   "source": [
    "# Notebook de aprendizaje Python Deep Learning introducción \n"
   ]
  },
  {
   "cell_type": "markdown",
   "metadata": {},
   "source": [
    "## Machine Learning\n",
    "\n",
    "Machine Learning es una tecnología que permite la creación de modelos de aprendizaje automático que se pueden utilizar para predecir resultados futuros.\n",
    "Se podría definir como \"el subcampo de la inteligencia artificial que proporciona a los ordenadores la capacidad de aprender sin ser explícitamente programados, es decir, sin que estos necesiten que el programador indique las reglas que deben seguir para lograr su tarea, sino que la hace automáticamente\"."
   ]
  },
  {
   "cell_type": "markdown",
   "metadata": {},
   "source": [
    "Machine learning es un amplio campo con una compleja taxonomía de algoritmos que se agrupan, en general, en tres grandes categorías: **_Supervised Learning, Unsupervised Learning, Reinforcement Learning_.** "
   ]
  },
  {
   "cell_type": "markdown",
   "metadata": {},
   "source": [
    "\n",
    "Se refiere a **_supervised learning_** cuando los datos que usamos para el entrenamiento incluyen una solución deseada, llamada etiqueta (label). En este caso el aprendizaje radica en aprender un modelo o función que mapea una entrada a una salida. Un escenario óptimo permitirá que el modelo, una vez entrenado, determine correctamente las etiquetas para datos de entrada no vistos anteriormente. \n"
   ]
  },
  {
   "cell_type": "markdown",
   "metadata": {},
   "source": [
    "Cuando se refiere a **_unsupervised learning_** cuando los datos de entrenamiento no incluyen las etiquetas, y es el algoritmo el que intentará clasificar la información por si mismo. "
   ]
  },
  {
   "cell_type": "markdown",
   "metadata": {},
   "source": [
    "Y cuando se habla de **_reinforcement learning_** es cuando el modelo se implemenmta en forma de un agente que deberá explorar un espacio desconocido y determina las cacciones a llevar acabo mediante prueba y error; aprenderá por sí mismo gvracias a las recompensas y penalizaciones que obtiene de sus acciones.  "
   ]
  },
  {
   "cell_type": "markdown",
   "metadata": {},
   "source": []
  }
 ],
 "metadata": {
  "kernelspec": {
   "display_name": "Python 3.9.12 ('base')",
   "language": "python",
   "name": "python3"
  },
  "language_info": {
   "name": "python",
   "version": "3.9.12"
  },
  "orig_nbformat": 4,
  "vscode": {
   "interpreter": {
    "hash": "3924ed30227e34da5a4c68c183321c9d32f94e2bda1bf4a622c4e1f08e1e696d"
   }
  }
 },
 "nbformat": 4,
 "nbformat_minor": 2
}
